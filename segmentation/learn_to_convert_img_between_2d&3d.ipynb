{
 "cells": [
  {
   "cell_type": "code",
   "execution_count": 1,
   "metadata": {},
   "outputs": [],
   "source": [
    "import tensorflow as tf\n",
    "import numpy as np\n",
    "from PIL import Image"
   ]
  },
  {
   "cell_type": "code",
   "execution_count": 2,
   "metadata": {},
   "outputs": [],
   "source": [
    "arr = Image.open('./output/mask.png')"
   ]
  },
  {
   "cell_type": "code",
   "execution_count": 3,
   "metadata": {},
   "outputs": [
    {
     "data": {
      "image/png": "[encoded data removed]",
      "text/plain": [
       "<PIL.PngImagePlugin.PngImageFile image mode=RGB size=533x300 at 0x7FCD55452240>"
      ]
     },
     "execution_count": 3,
     "metadata": {},
     "output_type": "execute_result"
    }
   ],
   "source": [
    "# 3维分割png图像转变为2维png图像\n",
    "# 原图\n",
    "arr"
   ]
  },
  {
   "cell_type": "code",
   "execution_count": 4,
   "metadata": {},
   "outputs": [
    {
     "data": {
      "text/plain": [
       "PIL.PngImagePlugin.PngImageFile"
      ]
     },
     "execution_count": 4,
     "metadata": {},
     "output_type": "execute_result"
    }
   ],
   "source": [
    "# 使用PIL读入图像格式为imagefile\n",
    "type(arr)"
   ]
  },
  {
   "cell_type": "code",
   "execution_count": 5,
   "metadata": {},
   "outputs": [],
   "source": [
    "# 转化为ndarray，进行图像操作\n",
    "arr = np.array(arr)"
   ]
  },
  {
   "cell_type": "code",
   "execution_count": 6,
   "metadata": {},
   "outputs": [
    {
     "name": "stdout",
     "output_type": "stream",
     "text": [
      "shape:(300, 533, 3)\n",
      "dtype:uint8\n"
     ]
    }
   ],
   "source": [
    "print('shape:' + str(arr.shape))\n",
    "print('dtype:' + str(arr.dtype))"
   ]
  },
  {
   "cell_type": "code",
   "execution_count": 7,
   "metadata": {},
   "outputs": [],
   "source": [
    "# print(arr)"
   ]
  },
  {
   "cell_type": "code",
   "execution_count": 8,
   "metadata": {},
   "outputs": [],
   "source": [
    "dt = np.dtype([('a', arr.dtype), ('b', arr.dtype), ('c', arr.dtype)])\n",
    "\n",
    "# numpy.squeeze()：从数组的形状中删除单维条目，即把shape中为1的维度去掉\n",
    "# numpy.view()：视图，（浅复制）即复制arr的数据，https://blog.csdn.net/qq_37553899/article/details/78793226\n",
    "y = arr.view(dtype=dt).squeeze()\n",
    "# print(y.shape)    # （300， 533）"
   ]
  },
  {
   "cell_type": "code",
   "execution_count": 9,
   "metadata": {},
   "outputs": [
    {
     "data": {
      "text/plain": [
       "array([(  0, 0, 0), (128, 0, 0)],\n",
       "      dtype=[('a', 'u1'), ('b', 'u1'), ('c', 'u1')])"
      ]
     },
     "execution_count": 9,
     "metadata": {},
     "output_type": "execute_result"
    }
   ],
   "source": [
    "'''\n",
    "unique = 唯一\n",
    "\n",
    "Python中numpy库unique函数解析\n",
    "\n",
    "1. 对于一维列表或数组A: \n",
    "\n",
    "import numpy as np\n",
    "A = [1, 2, 2, 3, 4, 3]\n",
    "a = np.unique(A)\n",
    "print a            # 输出为 [1 2 3 4]\n",
    "\n",
    "a, b, c = np.unique(A, return_index=True, return_inverse=True)\n",
    "print a, b, c      # 输出为 [1 2 3 4], [0 1 3 4], [0 1 1 2 3 2]\n",
    "\n",
    "2. 对于二维数组(“darray数字类型”): \n",
    "\n",
    "A = [[1, 2], [3, 4], [5, 6], [1, 2]]\n",
    "A = np.array(A)   # 列表类型需转为数组类型\n",
    "a, b, c = np.unique(A.view(A.dtype.descr * A.shape[1]), return_index=True, return_inverse=True)\n",
    "print a, b, c     # 输出为 [(1, 2) (3, 4) (5, 6)], [0 1 2], [0 1 2 0]\n",
    "\n",
    "可以看出, Python中unique函数与Matlab完全一致. \n",
    "'''\n",
    "\n",
    "np.unique(y)"
   ]
  },
  {
   "cell_type": "code",
   "execution_count": 10,
   "metadata": {},
   "outputs": [],
   "source": [
    "label_colours = {(  0,  0,  0) : 0 ,\n",
    "                # 0=background\n",
    "                 (128,  0,  0) : 1,\n",
    "                 (  0,128,  0) : 2,\n",
    "                 (128,128,  0) : 3,\n",
    "                 (  0,  0,128) : 4,\n",
    "                 (128,  0,128) : 5,\n",
    "                # 1=aeroplane, 2=bicycle, 3=bird, 4=boat, 5=bottle\n",
    "                 (  0,128,128) : 6,\n",
    "                 (128,128,128) : 7,\n",
    "                 ( 64,  0,  0) : 8,\n",
    "                 (192,  0,  0) : 9,\n",
    "                 ( 64,128,  0) : 10,\n",
    "                # 6=bus, 7=car, 8=cat, 9=chair, 10=cow\n",
    "                 (192,128,  0) : 11,\n",
    "                 ( 64,  0,128) : 12,\n",
    "                 (192,  0,128) : 13,\n",
    "                 ( 64,128,128) : 14,\n",
    "                 (192,128,128) : 15,\n",
    "                # 11=diningtable, 12=dog, 13=horse, 14=motorbike, 15=person\n",
    "                 (  0, 64,  0) : 16,\n",
    "                 (128, 64,  0) : 17,\n",
    "                 (  0,192,  0) : 18,\n",
    "                 (128,192,  0) : 19,\n",
    "                 (  0, 64,128) : 20\n",
    "                }\n",
    "                # 16=potted plant, 17=sheep, 18=sofa, 19=train, 20=tv/monitor"
   ]
  },
  {
   "cell_type": "code",
   "execution_count": 11,
   "metadata": {},
   "outputs": [],
   "source": [
    "# 3d to 2d\n",
    "def convert_from_color_segmentation(arr_3d):\n",
    "    # 先构造一个全0的2d图像\n",
    "    arr_2d = np.zeros((arr_3d.shape[0], arr_3d.shape[1]), dtype=np.uint8)\n",
    "\n",
    "    # 用类别填充2d图像\n",
    "    for c, i in label_colours.items():\n",
    "        m = np.all(arr_3d == np.array(c).reshape(1, 1, 3), axis=2)\n",
    "#         print(m)\n",
    "#         print(m.shape)    # （300， 533）\n",
    "        arr_2d[m] = i\n",
    "\n",
    "    return arr_2d"
   ]
  },
  {
   "cell_type": "code",
   "execution_count": 12,
   "metadata": {},
   "outputs": [
    {
     "data": {
      "text/plain": [
       "(300, 533)"
      ]
     },
     "execution_count": 12,
     "metadata": {},
     "output_type": "execute_result"
    }
   ],
   "source": [
    "np.array(Image.fromarray(convert_from_color_segmentation(arr))).shape"
   ]
  },
  {
   "cell_type": "code",
   "execution_count": 13,
   "metadata": {},
   "outputs": [],
   "source": [
    "# ndarray 转为图像方便观察\n",
    "seg = Image.fromarray(convert_from_color_segmentation(arr))"
   ]
  },
  {
   "cell_type": "code",
   "execution_count": 14,
   "metadata": {},
   "outputs": [
    {
     "data": {
      "image/png": "[encoded data removed]",
      "text/plain": [
       "<PIL.Image.Image image mode=L size=533x300 at 0x7FCD55372FD0>"
      ]
     },
     "execution_count": 14,
     "metadata": {},
     "output_type": "execute_result"
    }
   ],
   "source": [
    "# 转换后的2d图像显示如下\n",
    "seg"
   ]
  },
  {
   "cell_type": "code",
   "execution_count": 15,
   "metadata": {},
   "outputs": [
    {
     "data": {
      "text/plain": [
       "PIL.Image.Image"
      ]
     },
     "execution_count": 15,
     "metadata": {},
     "output_type": "execute_result"
    }
   ],
   "source": [
    "# 逆过程\n",
    "# 2d恢复为3d rgb图像\n",
    "# seg = Image.open('./images/2007_000032.png')\n",
    "type(seg)"
   ]
  },
  {
   "cell_type": "code",
   "execution_count": 16,
   "metadata": {},
   "outputs": [],
   "source": [
    "# 图像变数组\n",
    "seg = np.array(seg)"
   ]
  },
  {
   "cell_type": "code",
   "execution_count": 17,
   "metadata": {},
   "outputs": [],
   "source": [
    "# 2d to 3d\n",
    "# def get_keys(d, value):\n",
    "#     return [k for k,v in d.items() if v == value]\n",
    "\n",
    "def convert_from_segmentation_color(arr_2d):\n",
    "    arr_3d = np.zeros( (arr_2d.shape[0], arr_2d.shape[1],3), dtype = np.uint8 )\n",
    "    \n",
    "    # 方法一：明显慢\n",
    "    # 遍历图像像素\n",
    "#     for i in range(arr_2d.shape[0]):\n",
    "#         for j in range(arr_2d.shape[1]):\n",
    "#             # 获取当前类别像素值\n",
    "#             c = get_keys(label_colours, arr_2d[i][j])\n",
    "#             # 填充颜色\n",
    "#             arr_3d[i, j] = np.array(c)\n",
    "    \n",
    "    # 方法二：比方法一快\n",
    "    for c, i in label_colours.items():\n",
    "        # 3维axis最大=2：二维矩阵，二维axis最大=1：一维向量，axis=0：只有一个值\n",
    "        # m要获取为二维坐标\n",
    "        m = np.all(arr_2d.reshape(arr_2d.shape[0], arr_2d.shape[1],1) == i, axis=2)\n",
    "        arr_3d[m] = np.array(c)\n",
    "    \n",
    "    return arr_3d"
   ]
  },
  {
   "cell_type": "code",
   "execution_count": 18,
   "metadata": {},
   "outputs": [],
   "source": [
    "former = convert_from_segmentation_color(seg)"
   ]
  },
  {
   "cell_type": "code",
   "execution_count": 19,
   "metadata": {},
   "outputs": [
    {
     "data": {
      "text/plain": [
       "(300, 533, 3)"
      ]
     },
     "execution_count": 19,
     "metadata": {},
     "output_type": "execute_result"
    }
   ],
   "source": [
    "former.shape"
   ]
  },
  {
   "cell_type": "code",
   "execution_count": 20,
   "metadata": {},
   "outputs": [],
   "source": [
    "# print(former)"
   ]
  },
  {
   "cell_type": "code",
   "execution_count": 21,
   "metadata": {},
   "outputs": [],
   "source": [
    "former = Image.fromarray(former)"
   ]
  },
  {
   "cell_type": "code",
   "execution_count": 22,
   "metadata": {},
   "outputs": [
    {
     "data": {
      "image/png": "[encoded data removed]",
      "text/plain": [
       "<PIL.Image.Image image mode=RGB size=533x300 at 0x7FCD55382748>"
      ]
     },
     "execution_count": 22,
     "metadata": {},
     "output_type": "execute_result"
    }
   ],
   "source": [
    "former"
   ]
  },
  {
   "cell_type": "code",
   "execution_count": null,
   "metadata": {},
   "outputs": [],
   "source": []
  }
 ],
 "metadata": {
  "kernelspec": {
   "display_name": "Python 3",
   "language": "python",
   "name": "python3"
  },
  "language_info": {
   "codemirror_mode": {
    "name": "ipython",
    "version": 3
   },
   "file_extension": ".py",
   "mimetype": "text/x-python",
   "name": "python",
   "nbconvert_exporter": "python",
   "pygments_lexer": "ipython3",
   "version": "3.6.5"
  }
 },
 "nbformat": 4,
 "nbformat_minor": 2
}
